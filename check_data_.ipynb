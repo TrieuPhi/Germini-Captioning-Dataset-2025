{
 "cells": [
  {
   "cell_type": "code",
   "execution_count": 3,
   "metadata": {},
   "outputs": [
    {
     "name": "stdout",
     "output_type": "stream",
     "text": [
      "Downloading images...\n"
     ]
    },
    {
     "name": "stderr",
     "output_type": "stream",
     "text": [
      "  0%|          | 0/83 [00:00<?, ?it/s]"
     ]
    },
    {
     "name": "stderr",
     "output_type": "stream",
     "text": [
      "100%|██████████| 83/83 [00:21<00:00,  3.81it/s]"
     ]
    },
    {
     "name": "stdout",
     "output_type": "stream",
     "text": [
      "\n",
      "Download completed! Successfully downloaded 83/83 images\n"
     ]
    },
    {
     "name": "stderr",
     "output_type": "stream",
     "text": [
      "\n"
     ]
    }
   ],
   "source": [
    "import pandas as pd\n",
    "import requests\n",
    "import os\n",
    "from tqdm import tqdm\n",
    "import time\n",
    "from pathlib import Path\n",
    "\n",
    "def download_image(url, save_path):\n",
    "    # Headers giả lập trình duyệt web\n",
    "    headers = {\n",
    "        'User-Agent': 'Mozilla/5.0 (Windows NT 10.0; Win64; x64) AppleWebKit/537.36 (KHTML, like Gecko) Chrome/91.0.4472.124 Safari/537.36'\n",
    "    }\n",
    "    \n",
    "    try:\n",
    "        response = requests.get(url, headers=headers, timeout=15)\n",
    "        response.raise_for_status()\n",
    "        \n",
    "        # Kiểm tra content-type\n",
    "        content_type = response.headers.get('content-type', '')\n",
    "        if not any(img_type in content_type.lower() for img_type in ['jpeg', 'jpg', 'png', 'webp']):\n",
    "            raise ValueError(f\"Invalid content type: {content_type}\")\n",
    "            \n",
    "        with open(save_path, 'wb') as f:\n",
    "            f.write(response.content)\n",
    "        return True\n",
    "    except Exception as e:\n",
    "        print(f\"Error downloading {url}: {str(e)}\")\n",
    "        return False\n",
    "\n",
    "def main():\n",
    "    # Read CSV file\n",
    "    csv_path = \"./data/traffic_images_100_short_captions.csv\"\n",
    "    df = pd.read_csv(csv_path)\n",
    "    \n",
    "    # Create image directory if it doesn't exist\n",
    "    image_dir = Path(\"images\")\n",
    "    image_dir.mkdir(exist_ok=True)\n",
    "    \n",
    "    # Download images with progress bar\n",
    "    print(\"Downloading images...\")\n",
    "    success_count = 0\n",
    "    \n",
    "    for idx, row in tqdm(df.iterrows(), total=len(df)):\n",
    "        url = row['original_url']\n",
    "        \n",
    "        # Create filename with index\n",
    "        filename = f\"img_{idx:06d}\" # Format: img_000001, img_000002, etc.\n",
    "        \n",
    "        # Determine extension from URL or default to .jpg\n",
    "        ext = os.path.splitext(url.split('/')[-1])[1]\n",
    "        if not ext or ext.lower() not in ['.jpg', '.jpeg', '.png', '.webp']:\n",
    "            ext = '.jpg'\n",
    "            \n",
    "        save_path = image_dir / f\"{filename}{ext}\"\n",
    "        \n",
    "        # Skip if file already exists\n",
    "        if save_path.exists():\n",
    "            success_count += 1\n",
    "            continue\n",
    "        \n",
    "        # Try downloading with increasing delays on failure\n",
    "        max_retries = 3\n",
    "        delay = 1\n",
    "        \n",
    "        for attempt in range(max_retries):\n",
    "            if download_image(url, save_path):\n",
    "                success_count += 1\n",
    "                break\n",
    "            elif attempt < max_retries - 1:  # Don't sleep after last attempt\n",
    "                time.sleep(delay)\n",
    "                delay *= 2  # Exponential backoff\n",
    "    \n",
    "    print(f\"\\nDownload completed! Successfully downloaded {success_count}/{len(df)} images\")\n",
    "\n",
    "if __name__ == \"__main__\":\n",
    "    main()"
   ]
  },
  {
   "cell_type": "code",
   "execution_count": null,
   "metadata": {},
   "outputs": [],
   "source": []
  }
 ],
 "metadata": {
  "kernelspec": {
   "display_name": "annotate",
   "language": "python",
   "name": "python3"
  },
  "language_info": {
   "codemirror_mode": {
    "name": "ipython",
    "version": 3
   },
   "file_extension": ".py",
   "mimetype": "text/x-python",
   "name": "python",
   "nbconvert_exporter": "python",
   "pygments_lexer": "ipython3",
   "version": "3.10.16"
  }
 },
 "nbformat": 4,
 "nbformat_minor": 2
}
