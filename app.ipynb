{
 "cells": [
  {
   "cell_type": "code",
   "execution_count": 1,
   "metadata": {},
   "outputs": [
    {
     "name": "stdout",
     "output_type": "stream",
     "text": [
      "Response in =  14.860926\n",
      "Image Caption Recognition Result:\n",
      "Bức ảnh chụp một con phố ở Việt Nam bị lũ lụt. Phía trước là một người đàn ông mặc áo mưa màu đỏ đang lái xe máy, phía sau là một nhóm người đang ngồi trên xe máy. Bên phải là một cửa hàng có biển hiệu \"Kim Oanh\" và bên trái là một cửa hàng có biển hiệu \"Công ty Cổ phần Thương mại Phát triển\". Trên cao là những dây điện chằng chịt treo dọc theo đường phố.\n"
     ]
    }
   ],
   "source": [
    "import base64\n",
    "import requests\n",
    "\n",
    "def perform_imc(image_path):\n",
    "    response = requests.post(\n",
    "        url=\"https://9648-34-125-228-122.ngrok-free.app/imc\",  # Ensure this URL matches your Ollama service endpoint\n",
    "        json={\n",
    "            \"image_url\": image_path,\n",
    "        }\n",
    "    )\n",
    "\n",
    "    print(\"Response in = \", response.elapsed.total_seconds())\n",
    "    \n",
    "    if response.status_code == 200:\n",
    "        return response.json().get(\"response_message\")\n",
    "    else:\n",
    "        print(\"Error:\", response.status_code, response.text)\n",
    "        return None\n",
    "\n",
    "\n",
    "# Replace with your image path\n",
    "image_path = \"https://uploads.nguoidothi.net.vn/content/a0a1cfac-64c2-47eb-a750-097a09008ccd.jpg\"\n",
    "\n",
    "result = perform_imc(image_path)\n",
    "\n",
    "if result:\n",
    "    print(\"Image Caption Recognition Result:\")\n",
    "    print(result)"
   ]
  },
  {
   "cell_type": "code",
   "execution_count": null,
   "metadata": {},
   "outputs": [
    {
     "name": "stderr",
     "output_type": "stream",
     "text": [
      "Processing images: 100%|██████████| 83/83 [21:52<00:00, 15.81s/it]\n"
     ]
    }
   ],
   "source": [
    "import pandas as pd\n",
    "import requests\n",
    "import time\n",
    "from tqdm import tqdm\n",
    "\n",
    "def perform_ocr(image_url):\n",
    "    response = requests.post(\n",
    "        url=\"https://9648-34-125-228-122.ngrok-free.app/imc\",\n",
    "        json={\"image_url\": image_url}\n",
    "    )\n",
    "    \n",
    "    if response.status_code == 200:\n",
    "        return response.json().get(\"response_message\", \"No caption generated\")\n",
    "    else:\n",
    "        print(\"Error:\", response.status_code, response.text)\n",
    "        return \"Error\"\n",
    "\n",
    "# Đọc file CSV\n",
    "file_path = \"./data/traffic_images_100.csv\"\n",
    "df = pd.read_csv(file_path)\n",
    "\n",
    "# Tạo list để lưu các caption\n",
    "captions = []\n",
    "\n",
    "# Sử dụng tqdm để hiển thị progress bar\n",
    "for url in tqdm(df['original_url'], desc=\"Processing images\"):\n",
    "    if pd.notna(url):\n",
    "        caption = perform_ocr(url)\n",
    "    else:\n",
    "        caption = \"No image\"\n",
    "    captions.append(caption)\n",
    "\n",
    "# Gán kết quả vào DataFrame\n",
    "df[\"caption\"] = captions\n",
    "\n",
    "# Lưu kết quả vào file CSV (tùy chọn)\n",
    "df.to_csv(\"./data/traffic_images_100_short_captions.csv\", index=False, encoding=\"utf-8-sig\")"
   ]
  },
  {
   "cell_type": "code",
   "execution_count": 5,
   "metadata": {},
   "outputs": [],
   "source": [
    "df.to_csv(\"./data/traffic_images_100_short_captions.csv\", index=False, encoding=\"utf-8-sig\")"
   ]
  },
  {
   "cell_type": "code",
   "execution_count": null,
   "metadata": {},
   "outputs": [],
   "source": []
  }
 ],
 "metadata": {
  "kernelspec": {
   "display_name": "annotate",
   "language": "python",
   "name": "python3"
  },
  "language_info": {
   "codemirror_mode": {
    "name": "ipython",
    "version": 3
   },
   "file_extension": ".py",
   "mimetype": "text/x-python",
   "name": "python",
   "nbconvert_exporter": "python",
   "pygments_lexer": "ipython3",
   "version": "3.10.16"
  }
 },
 "nbformat": 4,
 "nbformat_minor": 2
}
